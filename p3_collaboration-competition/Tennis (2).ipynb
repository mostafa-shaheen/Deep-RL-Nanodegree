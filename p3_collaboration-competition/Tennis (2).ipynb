{
 "cells": [
  {
   "cell_type": "markdown",
   "metadata": {},
   "source": [
    "# Collaboration and Competition\n",
    "\n",
    "---\n",
    "\n",
    "You are welcome to use this coding environment to train your agent for the project.  Follow the instructions below to get started!\n",
    "\n",
    "### 1. Start the Environment\n",
    "\n",
    "Run the next code cell to install a few packages.  This line will take a few minutes to run!"
   ]
  },
  {
   "cell_type": "code",
   "execution_count": 1,
   "metadata": {},
   "outputs": [],
   "source": [
    "#!curl -O https://raw.githubusercontent.com/udacity/workspaces-student-support/master/jupyter/workspace_utils.py"
   ]
  },
  {
   "cell_type": "code",
   "execution_count": 1,
   "metadata": {},
   "outputs": [],
   "source": [
    "import random\n",
    "import torch\n",
    "import numpy as np\n",
    "from collections import deque\n",
    "import matplotlib.pyplot as plt\n",
    "%matplotlib inline\n",
    "\n",
    "from two_agents import Agents"
   ]
  },
  {
   "cell_type": "code",
   "execution_count": 2,
   "metadata": {},
   "outputs": [
    {
     "name": "stdout",
     "output_type": "stream",
     "text": [
      "k\n"
     ]
    }
   ],
   "source": [
    "from workspace_utils import active_session"
   ]
  },
  {
   "cell_type": "code",
   "execution_count": 3,
   "metadata": {},
   "outputs": [
    {
     "name": "stdout",
     "output_type": "stream",
     "text": [
      "\u001b[31mtensorflow 1.7.1 has requirement numpy>=1.13.3, but you'll have numpy 1.12.1 which is incompatible.\u001b[0m\r\n",
      "\u001b[31mipython 6.5.0 has requirement prompt-toolkit<2.0.0,>=1.0.15, but you'll have prompt-toolkit 2.0.10 which is incompatible.\u001b[0m\r\n"
     ]
    }
   ],
   "source": [
    "#!pip -q install ./python"
   ]
  },
  {
   "cell_type": "markdown",
   "metadata": {},
   "source": [
    "The environment is already saved in the Workspace and can be accessed at the file path provided below. "
   ]
  },
  {
   "cell_type": "code",
   "execution_count": 4,
   "metadata": {},
   "outputs": [
    {
     "name": "stderr",
     "output_type": "stream",
     "text": [
      "INFO:unityagents:\n",
      "'Academy' started successfully!\n",
      "Unity Academy name: Academy\n",
      "        Number of Brains: 1\n",
      "        Number of External Brains : 1\n",
      "        Lesson number : 0\n",
      "        Reset Parameters :\n",
      "\t\t\n",
      "Unity brain name: TennisBrain\n",
      "        Number of Visual Observations (per agent): 0\n",
      "        Vector Observation space type: continuous\n",
      "        Vector Observation space size (per agent): 8\n",
      "        Number of stacked Vector Observation: 3\n",
      "        Vector Action space type: continuous\n",
      "        Vector Action space size (per agent): 2\n",
      "        Vector Action descriptions: , \n"
     ]
    }
   ],
   "source": [
    "from unityagents import UnityEnvironment\n",
    "import numpy as np\n",
    "\n",
    "env = UnityEnvironment(file_name=\"/data/Tennis_Linux_NoVis/Tennis\")"
   ]
  },
  {
   "cell_type": "markdown",
   "metadata": {},
   "source": [
    "Environments contain **_brains_** which are responsible for deciding the actions of their associated agents. Here we check for the first brain available, and set it as the default brain we will be controlling from Python."
   ]
  },
  {
   "cell_type": "code",
   "execution_count": 5,
   "metadata": {},
   "outputs": [],
   "source": [
    "# get the default brain\n",
    "brain_name = env.brain_names[0]\n",
    "brain = env.brains[brain_name]"
   ]
  },
  {
   "cell_type": "markdown",
   "metadata": {},
   "source": [
    "### 2. Examine the State and Action Spaces\n",
    "\n",
    "Run the code cell below to print some information about the environment."
   ]
  },
  {
   "cell_type": "code",
   "execution_count": 6,
   "metadata": {},
   "outputs": [
    {
     "name": "stdout",
     "output_type": "stream",
     "text": [
      "Number of agents: 2\n",
      "Size of each action: 2\n",
      "There are 2 agents. Each observes a state with length: 24\n",
      "The state for the first agent looks like: [ 0.          0.          0.          0.          0.          0.          0.\n",
      "  0.          0.          0.          0.          0.          0.          0.\n",
      "  0.          0.         -6.65278625 -1.5        -0.          0.\n",
      "  6.83172083  6.         -0.          0.        ]\n"
     ]
    }
   ],
   "source": [
    "# reset the environment\n",
    "env_info = env.reset(train_mode=True)[brain_name]\n",
    "\n",
    "# number of agents \n",
    "num_agents = len(env_info.agents)\n",
    "print('Number of agents:', num_agents)\n",
    "\n",
    "# size of each action\n",
    "action_size = brain.vector_action_space_size\n",
    "print('Size of each action:', action_size)\n",
    "\n",
    "# examine the state space \n",
    "states = env_info.vector_observations\n",
    "state_size = states.shape[1]\n",
    "print('There are {} agents. Each observes a state with length: {}'.format(states.shape[0], state_size))\n",
    "print('The state for the first agent looks like:', states[0])"
   ]
  },
  {
   "cell_type": "markdown",
   "metadata": {},
   "source": [
    "### 3. Take Random Actions in the Environment\n",
    "\n",
    "In the next code cell, you will learn how to use the Python API to control the agent and receive feedback from the environment.\n",
    "\n",
    "Note that **in this coding environment, you will not be able to watch the agents while they are training**, and you should set `train_mode=True` to restart the environment."
   ]
  },
  {
   "cell_type": "code",
   "execution_count": null,
   "metadata": {},
   "outputs": [],
   "source": [
    "for i in range(5):                                         # play game for 5 episodes\n",
    "    env_info = env.reset(train_mode=False)[brain_name]     # reset the environment    \n",
    "    states = env_info.vector_observations                  # get the current state (for each agent)\n",
    "    scores = np.zeros(num_agents)                          # initialize the score (for each agent)\n",
    "    while True:\n",
    "        actions = np.random.randn(num_agents, action_size) # select an action (for each agent)\n",
    "        actions = np.clip(actions, -1, 1)                  # all actions between -1 and 1\n",
    "        env_info = env.step(actions)[brain_name]           # send all actions to tne environment\n",
    "        next_states = env_info.vector_observations         # get next state (for each agent)\n",
    "        rewards = env_info.rewards                         # get reward (for each agent)\n",
    "        dones = env_info.local_done                        # see if episode finished\n",
    "        scores += env_info.rewards                         # update the score (for each agent)\n",
    "        states = next_states                               # roll over states to next time step\n",
    "        if np.any(dones):                                  # exit loop if episode finished\n",
    "            break\n",
    "    print('Total score (averaged over agents) this episode: {}'.format(np.mean(scores)))"
   ]
  },
  {
   "cell_type": "markdown",
   "metadata": {},
   "source": [
    "When finished, you can close the environment."
   ]
  },
  {
   "cell_type": "code",
   "execution_count": 16,
   "metadata": {},
   "outputs": [],
   "source": [
    "env.close()"
   ]
  },
  {
   "cell_type": "markdown",
   "metadata": {},
   "source": [
    "### 4. It's Your Turn!\n",
    "\n",
    "Now it's your turn to train your own agent to solve the environment!  A few **important notes**:\n",
    "- When training the environment, set `train_mode=True`, so that the line for resetting the environment looks like the following:\n",
    "```python\n",
    "env_info = env.reset(train_mode=True)[brain_name]\n",
    "```\n",
    "- To structure your work, you're welcome to work directly in this Jupyter notebook, or you might like to start over with a new file!  You can see the list of files in the workspace by clicking on **_Jupyter_** in the top left corner of the notebook.\n",
    "- In this coding environment, you will not be able to watch the agents while they are training.  However, **_after training the agents_**, you can download the saved model weights to watch the agents on your own machine! "
   ]
  },
  {
   "cell_type": "code",
   "execution_count": 7,
   "metadata": {},
   "outputs": [],
   "source": [
    "agent = Agents(state_size=state_size, action_size=action_size, random_seed=123)"
   ]
  },
  {
   "cell_type": "code",
   "execution_count": 8,
   "metadata": {},
   "outputs": [],
   "source": [
    "def maddpg_train(n_episodes=2500):\n",
    "    \n",
    "    scores_deque = deque(maxlen=100)\n",
    "    scores = []\n",
    "    ACC_SCORE = np.zeros(2)\n",
    "    SHARE_EVERY = 50      # how many episodes to share weights from the better agent \n",
    "    noise_ratio = 1/1000  # cancels noise after 1000 episodes\n",
    "    \n",
    "    for i_episode in range(1, n_episodes+1):\n",
    "        env_info = env.reset(train_mode=True)[brain_name]      # reset the environment    \n",
    "        states = env_info.vector_observations                  # get the current state (for each agent)\n",
    "        agent.reset()\n",
    "        score = 0\n",
    "        t=0\n",
    "        while True:\n",
    "            noise = 1-(noise_ratio*i_episode) \n",
    "            actions = agent.act(states, noise=noise)\n",
    "            env_info = env.step(actions)[brain_name]           # send all actions to tne environment\n",
    "            next_states = env_info.vector_observations         # get next state (for each agent)\n",
    "            rewards = env_info.rewards                         # get reward (for each agent)\n",
    "            dones = env_info.local_done                        # see if episode finished                        \n",
    "            agent.step(states, actions, rewards, next_states, dones)\n",
    "            states = next_states\n",
    "            score += np.array(rewards)\n",
    "            t+=1\n",
    "            if np.any(dones):                                  # exit loop if episode finished\n",
    "                break\n",
    "\n",
    "        agent.prioritized_memory.beta += 0.001  # increment importance sampling wheights\n",
    "\n",
    "        winner = np.argmax(score)\n",
    "        ACC_SCORE[winner]+=1   \n",
    "        \n",
    "        if i_episode %  SHARE_EVERY == 0:\n",
    "            final_winner = np.argmax(ACC_SCORE)\n",
    "            agent.share_experince(final_winner)\n",
    "            ACC_SCORE = np.zeros(2)\n",
    "                \n",
    "        scores_deque.append(max(score))\n",
    "        scores.append(max(score))\n",
    "        print('\\rEpisode {}\\tAverage Score: {:.2f}\\tcurrent max score: {:.2f}\\t time steps: {} '.format(i_episode, \n",
    "                                                            np.mean(scores_deque),max(score),t), end=\"\")\n",
    "\n",
    "        \n",
    "        if np.mean(scores_deque)>=1.0:\n",
    "            print('\\nEnvironment solved in {:d} episodes!\\tAverage Score: {:.2f}'.format(i_episode, \n",
    "                                                            np.mean(scores_deque)))\n",
    "            state_dicts = {\n",
    "                              'a0'   :    agent.actors[0].state_dict(),\n",
    "                              'at0'  :    agent.actors_target[0].state_dict(),\n",
    "                              'a1'   :    agent.actors[1].state_dict(),\n",
    "                              'at1'  :    agent.actors_target[1].state_dict(),\n",
    "                              'c0'   :    agent.critics[0].state_dict(),\n",
    "                              'ct0'  :    agent.critics_target[0].state_dict(),\n",
    "                              'c1'   :    agent.critics[1].state_dict(),\n",
    "                              'ct1'  :    agent.critics_target[1].state_dict()  }\n",
    "            \n",
    "            torch.save(state_dicts, 'checkpoint.pth')            \n",
    "\n",
    "            break\n",
    "    return scores\n"
   ]
  },
  {
   "cell_type": "code",
   "execution_count": 11,
   "metadata": {},
   "outputs": [
    {
     "name": "stdout",
     "output_type": "stream",
     "text": [
      "Episode 49\tAverage Score: 0.00\tcurrent max score: 0.00\t time steps: 15 \n",
      " 0  shared to the other agent\n",
      "Episode 99\tAverage Score: 0.00\tcurrent max score: 0.00\t time steps: 14 \n",
      " 0  shared to the other agent\n",
      "Episode 149\tAverage Score: 0.02\tcurrent max score: 0.00\t time steps: 14 \n",
      " 1  shared to the other agent\n",
      "Episode 199\tAverage Score: 0.02\tcurrent max score: 0.00\t time steps: 14 \n",
      " 0  shared to the other agent\n",
      "Episode 249\tAverage Score: 0.00\tcurrent max score: 0.00\t time steps: 14 \n",
      " 0  shared to the other agent\n",
      "Episode 299\tAverage Score: 0.00\tcurrent max score: 0.00\t time steps: 14 \n",
      " 1  shared to the other agent\n",
      "Episode 349\tAverage Score: 0.00\tcurrent max score: 0.00\t time steps: 14 \n",
      " 0  shared to the other agent\n",
      "Episode 399\tAverage Score: 0.01\tcurrent max score: 0.00\t time steps: 14 \n",
      " 1  shared to the other agent\n",
      "Episode 449\tAverage Score: 0.01\tcurrent max score: 0.10\t time steps: 41 \n",
      " 0  shared to the other agent\n",
      "Episode 499\tAverage Score: 0.04\tcurrent max score: 0.09\t time steps: 30 \n",
      " 0  shared to the other agent\n",
      "Episode 549\tAverage Score: 0.07\tcurrent max score: 0.10\t time steps: 30 \n",
      " 0  shared to the other agent\n",
      "Episode 599\tAverage Score: 0.08\tcurrent max score: 0.09\t time steps: 31 \n",
      " 1  shared to the other agent\n",
      "Episode 649\tAverage Score: 0.10\tcurrent max score: 0.10\t time steps: 30  \n",
      " 1  shared to the other agent\n",
      "Episode 699\tAverage Score: 0.10\tcurrent max score: 0.10\t time steps: 29 \n",
      " 0  shared to the other agent\n",
      "Episode 749\tAverage Score: 0.10\tcurrent max score: 0.09\t time steps: 31  \n",
      " 0  shared to the other agent\n",
      "Episode 799\tAverage Score: 0.12\tcurrent max score: 0.10\t time steps: 52  \n",
      " 0  shared to the other agent\n",
      "Episode 849\tAverage Score: 0.24\tcurrent max score: 1.10\t time steps: 410  \n",
      " 0  shared to the other agent\n",
      "Episode 899\tAverage Score: 0.46\tcurrent max score: 0.10\t time steps: 30 1 \n",
      " 0  shared to the other agent\n",
      "Episode 949\tAverage Score: 0.72\tcurrent max score: 2.60\t time steps: 1001 \n",
      " 0  shared to the other agent\n",
      "Episode 984\tAverage Score: 1.00\tcurrent max score: 1.10\t time steps: 421  \n",
      "Environment solved in 984 episodes!\tAverage Score: 1.00\n"
     ]
    },
    {
     "data": {
      "image/png": "[encoded data removed]",
      "text/plain": [
       "<matplotlib.figure.Figure at 0x7f649125e748>"
      ]
     },
     "metadata": {
      "needs_background": "light"
     },
     "output_type": "display_data"
    }
   ],
   "source": [
    "with active_session():\n",
    "    scores = maddpg_train()\n",
    "\n",
    "fig = plt.figure()\n",
    "ax = fig.add_subplot(111)\n",
    "plt.plot(np.arange(1, len(scores)+1), scores)\n",
    "plt.ylabel('Score')\n",
    "plt.xlabel('Episode #')\n",
    "plt.show()"
   ]
  },
  {
   "cell_type": "markdown",
   "metadata": {},
   "source": [
    "## continue training\n",
    "continue training for another 1000 episodes after modifying some numbers in the training function."
   ]
  },
  {
   "cell_type": "code",
   "execution_count": 17,
   "metadata": {},
   "outputs": [],
   "source": [
    "def maddpg_train2(n_episodes=2000):\n",
    "    \n",
    "    scores_deque = deque(maxlen=100)\n",
    "    scores = []\n",
    "    ACC_SCORE = np.zeros(2)\n",
    "    SHARE_EVERY = 50      # how many episodes to share weights from the better agent \n",
    "    noise_ratio = 1/100  # cancels noise after 1000 episodes\n",
    "    agent.prioritized_memory.beta = 1\n",
    "    for i_episode in range(984, n_episodes+1):\n",
    "        env_info = env.reset(train_mode=True)[brain_name]      # reset the environment    \n",
    "        states = env_info.vector_observations                  # get the current state (for each agent)\n",
    "        agent.reset()\n",
    "        score = 0\n",
    "        t=0\n",
    "        while True:\n",
    "            #noise = 1-(noise_ratio*i_episode) \n",
    "            noise = 0.05\n",
    "            actions = agent.act(states, noise=noise)\n",
    "            env_info = env.step(actions)[brain_name]           # send all actions to tne environment\n",
    "            next_states = env_info.vector_observations         # get next state (for each agent)\n",
    "            rewards = env_info.rewards                         # get reward (for each agent)\n",
    "            dones = env_info.local_done                        # see if episode finished                        \n",
    "            agent.step(states, actions, rewards, next_states, dones)\n",
    "            states = next_states\n",
    "            score += np.array(rewards)\n",
    "            t+=1\n",
    "            if np.any(dones):                                  # exit loop if episode finished\n",
    "                break\n",
    "\n",
    "        #agent.prioritized_memory.beta += 0.001  # increment importance sampling wheights\n",
    "\n",
    "        winner = np.argmax(score)\n",
    "        ACC_SCORE[winner]+=1   \n",
    "        \n",
    "        if i_episode %  SHARE_EVERY == 0:\n",
    "            final_winner = np.argmax(ACC_SCORE)\n",
    "            agent.share_experince(final_winner)\n",
    "            ACC_SCORE = np.zeros(2)\n",
    "\n",
    "        scores_deque.append(max(score))\n",
    "        scores.append(max(score))\n",
    "        print('\\rEpisode {}\\tAverage Score: {:.2f}\\tcurrent max score: {:.2f}\\t time steps: {} '.format(i_episode, \n",
    "                                                            np.mean(scores_deque),max(score),t), end=\"\")\n",
    "\n",
    "        \n",
    "        if np.mean(scores_deque)>=1.5 and len(scores_deque)==100:\n",
    "            print('\\nEnvironment solved in {:d} episodes!\\tAverage Score: {:.2f}'.format(i_episode, \n",
    "                                                            np.mean(scores_deque)))\n",
    "            state_dicts = {\n",
    "                              'a0'   :    agent.actors[0].state_dict(),\n",
    "                              'at0'  :    agent.actors_target[0].state_dict(),\n",
    "                              'a1'   :    agent.actors[1].state_dict(),\n",
    "                              'at1'  :    agent.actors_target[1].state_dict(),\n",
    "                              'c0'   :    agent.critics[0].state_dict(),\n",
    "                              'ct0'  :    agent.critics_target[0].state_dict(),\n",
    "                              'c1'   :    agent.critics[1].state_dict(),\n",
    "                              'ct1'  :    agent.critics_target[1].state_dict()  }\n",
    "            \n",
    "            torch.save(state_dicts, 'checkpoint2.pth')            \n",
    "\n",
    "            break\n",
    "    return scores\n"
   ]
  },
  {
   "cell_type": "code",
   "execution_count": 19,
   "metadata": {},
   "outputs": [
    {
     "name": "stdout",
     "output_type": "stream",
     "text": [
      "Episode 999\tAverage Score: 0.75\tcurrent max score: 1.10\t time steps: 428  \n",
      " 0  shared to the other agent\n",
      "Episode 1049\tAverage Score: 0.76\tcurrent max score: 2.60\t time steps: 1001 \n",
      " 0  shared to the other agent\n",
      "Episode 1099\tAverage Score: 0.85\tcurrent max score: 0.39\t time steps: 141  \n",
      " 0  shared to the other agent\n",
      "Episode 1149\tAverage Score: 1.03\tcurrent max score: 0.90\t time steps: 337  \n",
      " 0  shared to the other agent\n",
      "Episode 1199\tAverage Score: 0.88\tcurrent max score: 0.10\t time steps: 30   \n",
      " 0  shared to the other agent\n",
      "Episode 1249\tAverage Score: 0.39\tcurrent max score: 0.10\t time steps: 31  \n",
      " 0  shared to the other agent\n",
      "Episode 1299\tAverage Score: 0.29\tcurrent max score: 0.30\t time steps: 143 \n",
      " 1  shared to the other agent\n",
      "Episode 1349\tAverage Score: 0.55\tcurrent max score: 1.50\t time steps: 576  \n",
      " 0  shared to the other agent\n",
      "Episode 1399\tAverage Score: 0.85\tcurrent max score: 2.70\t time steps: 1001 \n",
      " 0  shared to the other agent\n",
      "Episode 1449\tAverage Score: 1.05\tcurrent max score: 2.10\t time steps: 825  \n",
      " 0  shared to the other agent\n",
      "Episode 1499\tAverage Score: 0.92\tcurrent max score: 0.29\t time steps: 104  \n",
      " 0  shared to the other agent\n",
      "Episode 1549\tAverage Score: 0.63\tcurrent max score: 0.19\t time steps: 60   \n",
      " 1  shared to the other agent\n",
      "Episode 1599\tAverage Score: 0.36\tcurrent max score: 0.20\t time steps: 99  \n",
      " 0  shared to the other agent\n",
      "Episode 1649\tAverage Score: 0.20\tcurrent max score: 0.20\t time steps: 102 \n",
      " 0  shared to the other agent\n",
      "Episode 1699\tAverage Score: 0.24\tcurrent max score: 0.10\t time steps: 31  \n",
      " 0  shared to the other agent\n",
      "Episode 1749\tAverage Score: 0.35\tcurrent max score: 0.10\t time steps: 32  \n",
      " 0  shared to the other agent\n",
      "Episode 1799\tAverage Score: 0.41\tcurrent max score: 0.10\t time steps: 30   \n",
      " 0  shared to the other agent\n",
      "Episode 1849\tAverage Score: 0.39\tcurrent max score: 0.40\t time steps: 177 \n",
      " 0  shared to the other agent\n",
      "Episode 1899\tAverage Score: 0.37\tcurrent max score: 0.10\t time steps: 30   \n",
      " 0  shared to the other agent\n",
      "Episode 1949\tAverage Score: 0.24\tcurrent max score: 0.10\t time steps: 30  \n",
      " 0  shared to the other agent\n",
      "Episode 1999\tAverage Score: 0.21\tcurrent max score: 0.10\t time steps: 30  \n",
      " 0  shared to the other agent\n",
      "Episode 2000\tAverage Score: 0.21\tcurrent max score: 0.10\t time steps: 30 "
     ]
    },
    {
     "data": {
      "image/png": "[encoded data removed]",
      "text/plain": [
       "<matplotlib.figure.Figure at 0x7f642c85a978>"
      ]
     },
     "metadata": {
      "needs_background": "light"
     },
     "output_type": "display_data"
    }
   ],
   "source": [
    "with active_session():\n",
    "    scores2 = maddpg_train2(2000)\n",
    "\n",
    "fig = plt.figure()\n",
    "ax = fig.add_subplot(111)\n",
    "plt.plot(np.arange(1, len(scores2)+1), scores2)\n",
    "plt.ylabel('Score')\n",
    "plt.xlabel('Episode #')\n",
    "plt.show()"
   ]
  },
  {
   "cell_type": "code",
   "execution_count": 20,
   "metadata": {},
   "outputs": [
    {
     "name": "stdout",
     "output_type": "stream",
     "text": [
      "984\n",
      "1017\n"
     ]
    }
   ],
   "source": [
    "print(len(scores))\n",
    "print(len(scores2))"
   ]
  },
  {
   "cell_type": "markdown",
   "metadata": {},
   "source": [
    "## Loading actors weights\n",
    "Loading actors weights from saved models as they will be used in playing "
   ]
  },
  {
   "cell_type": "code",
   "execution_count": null,
   "metadata": {},
   "outputs": [],
   "source": [
    "checkpoint = torch.load('checkpoint.pth') "
   ]
  },
  {
   "cell_type": "code",
   "execution_count": null,
   "metadata": {},
   "outputs": [],
   "source": [
    "agent.actors[0].load_state_dict(checkpoint['a0'])\n",
    "agent.actors[1].load_state_dict(checkpoint['a1'])"
   ]
  }
 ],
 "metadata": {
  "kernelspec": {
   "display_name": "Python 3",
   "language": "python",
   "name": "python3"
  },
  "language_info": {
   "codemirror_mode": {
    "name": "ipython",
    "version": 3
   },
   "file_extension": ".py",
   "mimetype": "text/x-python",
   "name": "python",
   "nbconvert_exporter": "python",
   "pygments_lexer": "ipython3",
   "version": "3.6.7"
  }
 },
 "nbformat": 4,
 "nbformat_minor": 2
}
