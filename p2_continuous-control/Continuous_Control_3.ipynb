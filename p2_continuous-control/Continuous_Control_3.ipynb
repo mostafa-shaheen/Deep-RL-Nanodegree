{
 "cells": [
  {
   "cell_type": "markdown",
   "metadata": {},
   "source": [
    "# Continuous Control\n",
    "\n",
    "---\n",
    "\n",
    "In this notebook, you will learn how to use the Unity ML-Agents environment for the second project of the [Deep Reinforcement Learning Nanodegree](https://www.udacity.com/course/deep-reinforcement-learning-nanodegree--nd893) program.\n",
    "\n",
    "### 1. Start the Environment\n",
    "\n",
    "We begin by importing the necessary packages.  If the code cell below returns an error, please revisit the project instructions to double-check that you have installed [Unity ML-Agents](https://github.com/Unity-Technologies/ml-agents/blob/master/docs/Installation.md) and [NumPy](http://www.numpy.org/)."
   ]
  },
  {
   "cell_type": "code",
   "execution_count": 1,
   "metadata": {},
   "outputs": [],
   "source": [
    "from unityagents import UnityEnvironment\n",
    "import numpy as np"
   ]
  },
  {
   "cell_type": "code",
   "execution_count": 2,
   "metadata": {},
   "outputs": [],
   "source": [
    "import random\n",
    "import torch\n",
    "import numpy as np\n",
    "from collections import deque\n",
    "import matplotlib.pyplot as plt\n",
    "%matplotlib inline\n",
    "\n",
    "from agent import Agent"
   ]
  },
  {
   "cell_type": "markdown",
   "metadata": {},
   "source": [
    "Next, we will start the environment!  **_Before running the code cell below_**, change the `file_name` parameter to match the location of the Unity environment that you downloaded.\n",
    "\n",
    "- **Mac**: `\"path/to/Reacher.app\"`\n",
    "- **Windows** (x86): `\"path/to/Reacher_Windows_x86/Reacher.exe\"`\n",
    "- **Windows** (x86_64): `\"path/to/Reacher_Windows_x86_64/Reacher.exe\"`\n",
    "- **Linux** (x86): `\"path/to/Reacher_Linux/Reacher.x86\"`\n",
    "- **Linux** (x86_64): `\"path/to/Reacher_Linux/Reacher.x86_64\"`\n",
    "- **Linux** (x86, headless): `\"path/to/Reacher_Linux_NoVis/Reacher.x86\"`\n",
    "- **Linux** (x86_64, headless): `\"path/to/Reacher_Linux_NoVis/Reacher.x86_64\"`\n",
    "\n",
    "For instance, if you are using a Mac, then you downloaded `Reacher.app`.  If this file is in the same folder as the notebook, then the line below should appear as follows:\n",
    "```\n",
    "env = UnityEnvironment(file_name=\"Reacher.app\")\n",
    "```"
   ]
  },
  {
   "cell_type": "code",
   "execution_count": 3,
   "metadata": {},
   "outputs": [
    {
     "name": "stderr",
     "output_type": "stream",
     "text": [
      "INFO:unityagents:\n",
      "'Academy' started successfully!\n",
      "Unity Academy name: Academy\n",
      "        Number of Brains: 1\n",
      "        Number of External Brains : 1\n",
      "        Lesson number : 0\n",
      "        Reset Parameters :\n",
      "\t\tgoal_speed -> 1.0\n",
      "\t\tgoal_size -> 5.0\n",
      "Unity brain name: ReacherBrain\n",
      "        Number of Visual Observations (per agent): 0\n",
      "        Vector Observation space type: continuous\n",
      "        Vector Observation space size (per agent): 33\n",
      "        Number of stacked Vector Observation: 1\n",
      "        Vector Action space type: continuous\n",
      "        Vector Action space size (per agent): 4\n",
      "        Vector Action descriptions: , , , \n"
     ]
    }
   ],
   "source": [
    "env = UnityEnvironment(file_name='Reacher_Linux/Reacher.x86')"
   ]
  },
  {
   "cell_type": "markdown",
   "metadata": {},
   "source": [
    "Environments contain **_brains_** which are responsible for deciding the actions of their associated agents. Here we check for the first brain available, and set it as the default brain we will be controlling from Python."
   ]
  },
  {
   "cell_type": "code",
   "execution_count": 4,
   "metadata": {},
   "outputs": [],
   "source": [
    "# get the default brain\n",
    "brain_name = env.brain_names[0]\n",
    "brain = env.brains[brain_name]"
   ]
  },
  {
   "cell_type": "markdown",
   "metadata": {},
   "source": [
    "### 2. Examine the State and Action Spaces\n",
    "\n",
    "In this environment, a double-jointed arm can move to target locations. A reward of `+0.1` is provided for each step that the agent's hand is in the goal location. Thus, the goal of your agent is to maintain its position at the target location for as many time steps as possible.\n",
    "\n",
    "The observation space consists of `33` variables corresponding to position, rotation, velocity, and angular velocities of the arm.  Each action is a vector with four numbers, corresponding to torque applicable to two joints.  Every entry in the action vector must be a number between `-1` and `1`.\n",
    "\n",
    "Run the code cell below to print some information about the environment."
   ]
  },
  {
   "cell_type": "code",
   "execution_count": 5,
   "metadata": {},
   "outputs": [
    {
     "name": "stdout",
     "output_type": "stream",
     "text": [
      "Number of agents: 20\n",
      "Size of each action: 4\n",
      "There are 20 agents. Each observes a state with length: 33\n",
      "The state for the first agent looks like: [ 0.00000000e+00 -4.00000000e+00  0.00000000e+00  1.00000000e+00\n",
      " -0.00000000e+00 -0.00000000e+00 -4.37113883e-08  0.00000000e+00\n",
      "  0.00000000e+00  0.00000000e+00  0.00000000e+00  0.00000000e+00\n",
      "  0.00000000e+00  0.00000000e+00 -1.00000000e+01  0.00000000e+00\n",
      "  1.00000000e+00 -0.00000000e+00 -0.00000000e+00 -4.37113883e-08\n",
      "  0.00000000e+00  0.00000000e+00  0.00000000e+00  0.00000000e+00\n",
      "  0.00000000e+00  0.00000000e+00  5.75471878e+00 -1.00000000e+00\n",
      "  5.55726624e+00  0.00000000e+00  1.00000000e+00  0.00000000e+00\n",
      " -1.68164849e-01]\n"
     ]
    }
   ],
   "source": [
    "# reset the environment\n",
    "env_info = env.reset(train_mode=True)[brain_name]\n",
    "\n",
    "# number of agents\n",
    "num_agents = len(env_info.agents)\n",
    "print('Number of agents:', num_agents)\n",
    "\n",
    "# size of each action\n",
    "action_size = brain.vector_action_space_size\n",
    "print('Size of each action:', action_size)\n",
    "\n",
    "# examine the state space \n",
    "states = env_info.vector_observations\n",
    "state_size = states.shape[1]\n",
    "print('There are {} agents. Each observes a state with length: {}'.format(states.shape[0], state_size))\n",
    "print('The state for the first agent looks like:', states[0])"
   ]
  },
  {
   "cell_type": "markdown",
   "metadata": {},
   "source": [
    "### 3. Take Random Actions in the Environment\n",
    "\n",
    "In the next code cell, you will learn how to use the Python API to control the agent and receive feedback from the environment.\n",
    "\n",
    "Once this cell is executed, you will watch the agent's performance, if it selects an action at random with each time step.  A window should pop up that allows you to observe the agent, as it moves through the environment.  \n",
    "\n",
    "Of course, as part of the project, you'll have to change the code so that the agent is able to use its experience to gradually choose better actions when interacting with the environment!"
   ]
  },
  {
   "cell_type": "code",
   "execution_count": 7,
   "metadata": {},
   "outputs": [
    {
     "name": "stdout",
     "output_type": "stream",
     "text": [
      "Total score (averaged over agents) this episode: 0.08549999808892608\n",
      "1001\n"
     ]
    }
   ],
   "source": [
    "env_info = env.reset(train_mode=False)[brain_name]     # reset the environment    \n",
    "states = env_info.vector_observations                  # get the current state (for each agent)\n",
    "scores = np.zeros(num_agents)                          # initialize the score (for each agent)\n",
    "steps=0\n",
    "while True:\n",
    "    actions = np.random.randn(num_agents, action_size) # select an action (for each agent)\n",
    "    actions = np.clip(actions, -1, 1)                  # all actions between -1 and 1\n",
    "    env_info = env.step(actions)[brain_name]           # send all actions to tne environment\n",
    "    next_states = env_info.vector_observations         # get next state (for each agent)\n",
    "    rewards = env_info.rewards                         # get reward (for each agent)\n",
    "    dones = env_info.local_done                        # see if episode finished\n",
    "    scores += env_info.rewards                         # update the score (for each agent)\n",
    "    states = next_states                               # roll over states to next time step\n",
    "    steps+=1\n",
    "    if np.any(dones):                                  # exit loop if episode finished\n",
    "        break\n",
    "print('Total score (averaged over agents) this episode: {}'.format(np.mean(scores)))\n",
    "print(steps)"
   ]
  },
  {
   "cell_type": "code",
   "execution_count": null,
   "metadata": {},
   "outputs": [],
   "source": [
    "env_info = env.reset(train_mode=False)[brain_name]     # reset the environment    \n",
    "states = env_info.vector_observations                  # get the current state (for each agent)\n",
    "scores = np.zeros(num_agents)                          # initialize the score (for each agent)\n",
    "while True:\n",
    "    actions = np.random.randn(num_agents, action_size) # select an action (for each agent)\n",
    "    actions = np.clip(actions, -1, 1)                  # all actions between -1 and 1\n",
    "    \n",
    "    new_actions    = np.zeros([num_agents, action_size])\n",
    "    new_actions[0] = actions[0] \n",
    "    \n",
    "    env_info = env.step(new_actions)[brain_name]           # send all actions to tne environment\n",
    "    next_states = env_info.vector_observations         # get next state (for each agent)\n",
    "    rewards = env_info.rewards                         # get reward (for each agent)\n",
    "    dones = env_info.local_done                        # see if episode finished\n",
    "    scores += env_info.rewards                         # update the score (for each agent)\n",
    "    states = next_states                               # roll over states to next time step\n",
    "    if np.any(dones):                                  # exit loop if episode finished\n",
    "        break\n",
    "print('Total score (averaged over agents) this episode: {}'.format(np.mean(scores)))"
   ]
  },
  {
   "cell_type": "markdown",
   "metadata": {},
   "source": [
    "When finished, you can close the environment."
   ]
  },
  {
   "cell_type": "code",
   "execution_count": 6,
   "metadata": {},
   "outputs": [],
   "source": [
    "env.close()"
   ]
  },
  {
   "cell_type": "markdown",
   "metadata": {},
   "source": [
    "### 4. It's Your Turn!\n",
    "\n",
    "Now it's your turn to train your own agent to solve the environment!  When training the environment, set `train_mode=True`, so that the line for resetting the environment looks like the following:\n",
    "```python\n",
    "env_info = env.reset(train_mode=True)[brain_name]\n",
    "```"
   ]
  },
  {
   "cell_type": "code",
   "execution_count": 6,
   "metadata": {},
   "outputs": [],
   "source": [
    "agent = Agent(state_size=state_size, action_size=action_size, random_seed=2)"
   ]
  },
  {
   "cell_type": "code",
   "execution_count": 8,
   "metadata": {},
   "outputs": [],
   "source": [
    "def ddpg_train(n_episodes=350, max_t=1000, print_every=1):\n",
    "    scores_deque = deque(maxlen=100)\n",
    "    scores = []\n",
    "    for i_episode in range(1, n_episodes+1):\n",
    "        env_info = env.reset(train_mode=True)[brain_name]     # reset the environment    \n",
    "        states = env_info.vector_observations                  # get the current state (for each agent)\n",
    "        agent.reset()\n",
    "        score = 0\n",
    "        for t in range(max_t):\n",
    "            \n",
    "            actions = agent.act(states, add_noise=True)\n",
    "            env_info = env.step(actions)[brain_name]           # send all actions to tne environment\n",
    "            next_states = env_info.vector_observations         # get next state (for each agent)\n",
    "            rewards = env_info.rewards                         # get reward (for each agent)\n",
    "            dones = env_info.local_done                        # see if episode finished                        \n",
    "            agent.step(states, actions, rewards, next_states, dones)\n",
    "            states = next_states\n",
    "            score += np.array(rewards)\n",
    "            print('time step: ',t,'\\r', end=\"\")\n",
    "            if dones[0]:\n",
    "                break \n",
    "        scores_deque.append(min(score))\n",
    "        scores.append(min(score))\n",
    "        print('\\rEpisode {}\\tAverage Score: {:.2f}\\tcurrent min score: {:.2f}'.format(i_episode, \n",
    "                                                            np.mean(scores_deque),min(score)), end=\"\")\n",
    "        torch.save(agent.actor_local.state_dict(), 'checkpoint_actor.pth')\n",
    "        torch.save(agent.critic_local.state_dict(), 'checkpoint_critic.pth')\n",
    "        \n",
    "        if i_episode % print_every == 0:\n",
    "            print('\\rEpisode {}\\tAverage Score: {:.2f}\\tcurrent min score: {:.2f}'.format(i_episode, \n",
    "                                                            np.mean(scores_deque),min(score)))\n",
    "        if np.mean(scores_deque)>=30.0:\n",
    "            print('\\nEnvironment solved in {:d} episodes!\\tAverage Score: {:.2f}'.format(i_episode-100, \n",
    "                                                            np.mean(scores_deque)))\n",
    "            \n",
    "            torch.save(agent.actor_local.state_dict(), 'checkpoint_actor.pth')\n",
    "            torch.save(agent.critic_local.state_dict(), 'checkpoint_critic.pth')\n",
    "            break\n",
    "    return scores\n"
   ]
  },
  {
   "cell_type": "markdown",
   "metadata": {},
   "source": [
    "I have chosen to take the minimum score between all the 20 agents as the episode score as it is required for all agents to achieve an average of +30, I believed that taking the minimum guarantees that requirement."
   ]
  },
  {
   "cell_type": "code",
   "execution_count": 9,
   "metadata": {
    "scrolled": false
   },
   "outputs": [
    {
     "name": "stdout",
     "output_type": "stream",
     "text": [
      "Episode 1\tAverage Score: 0.00\tcurrent min score: 0.00\n",
      "Episode 2\tAverage Score: 0.14\tcurrent min score: 0.28\n",
      "Episode 3\tAverage Score: 0.09\tcurrent min score: 0.00\n",
      "Episode 4\tAverage Score: 0.12\tcurrent min score: 0.22\n",
      "Episode 5\tAverage Score: 0.10\tcurrent min score: 0.00\n",
      "Episode 6\tAverage Score: 0.11\tcurrent min score: 0.19\n",
      "Episode 7\tAverage Score: 0.12\tcurrent min score: 0.13\n",
      "Episode 8\tAverage Score: 0.10\tcurrent min score: 0.00\n",
      "Episode 9\tAverage Score: 0.09\tcurrent min score: 0.00\n",
      "Episode 10\tAverage Score: 0.09\tcurrent min score: 0.12\n",
      "Episode 11\tAverage Score: 0.11\tcurrent min score: 0.27\n",
      "Episode 12\tAverage Score: 0.10\tcurrent min score: 0.00\n",
      "Episode 13\tAverage Score: 0.11\tcurrent min score: 0.23\n",
      "Episode 14\tAverage Score: 0.14\tcurrent min score: 0.50\n",
      "Episode 15\tAverage Score: 0.20\tcurrent min score: 1.04\n",
      "Episode 16\tAverage Score: 0.26\tcurrent min score: 1.16\n",
      "Episode 17\tAverage Score: 0.30\tcurrent min score: 1.04\n",
      "Episode 18\tAverage Score: 0.34\tcurrent min score: 0.93\n",
      "Episode 19\tAverage Score: 0.34\tcurrent min score: 0.43\n",
      "Episode 20\tAverage Score: 0.38\tcurrent min score: 1.14\n",
      "Episode 21\tAverage Score: 0.44\tcurrent min score: 1.52\n",
      "Episode 22\tAverage Score: 0.52\tcurrent min score: 2.26\n",
      "Episode 23\tAverage Score: 0.58\tcurrent min score: 1.98\n",
      "Episode 24\tAverage Score: 0.67\tcurrent min score: 2.57\n",
      "Episode 25\tAverage Score: 0.71\tcurrent min score: 1.65\n",
      "Episode 26\tAverage Score: 0.76\tcurrent min score: 2.09\n",
      "Episode 27\tAverage Score: 0.85\tcurrent min score: 3.14\n",
      "Episode 28\tAverage Score: 0.89\tcurrent min score: 1.97\n",
      "Episode 29\tAverage Score: 0.93\tcurrent min score: 2.02\n",
      "Episode 30\tAverage Score: 0.95\tcurrent min score: 1.65\n",
      "Episode 31\tAverage Score: 1.02\tcurrent min score: 3.15\n",
      "Episode 32\tAverage Score: 1.07\tcurrent min score: 2.43\n",
      "Episode 33\tAverage Score: 1.13\tcurrent min score: 3.08\n",
      "Episode 34\tAverage Score: 1.15\tcurrent min score: 1.97\n",
      "Episode 35\tAverage Score: 1.23\tcurrent min score: 3.94\n",
      "Episode 36\tAverage Score: 1.29\tcurrent min score: 3.48\n",
      "Episode 37\tAverage Score: 1.36\tcurrent min score: 3.70\n",
      "Episode 38\tAverage Score: 1.45\tcurrent min score: 4.79\n",
      "Episode 39\tAverage Score: 1.47\tcurrent min score: 2.09\n",
      "Episode 40\tAverage Score: 1.53\tcurrent min score: 3.87\n",
      "Episode 41\tAverage Score: 1.56\tcurrent min score: 2.83\n",
      "Episode 42\tAverage Score: 1.58\tcurrent min score: 2.55\n",
      "Episode 43\tAverage Score: 1.66\tcurrent min score: 4.92\n",
      "Episode 44\tAverage Score: 1.70\tcurrent min score: 3.45\n",
      "Episode 45\tAverage Score: 1.77\tcurrent min score: 5.07\n",
      "Episode 46\tAverage Score: 1.89\tcurrent min score: 7.15\n",
      "Episode 47\tAverage Score: 1.99\tcurrent min score: 6.31\n",
      "Episode 48\tAverage Score: 2.04\tcurrent min score: 4.84\n",
      "Episode 49\tAverage Score: 2.08\tcurrent min score: 3.75\n",
      "Episode 50\tAverage Score: 2.15\tcurrent min score: 5.76\n",
      "Episode 51\tAverage Score: 2.24\tcurrent min score: 6.36\n",
      "Episode 52\tAverage Score: 2.31\tcurrent min score: 6.24\n",
      "Episode 53\tAverage Score: 2.40\tcurrent min score: 6.93\n",
      "Episode 54\tAverage Score: 2.48\tcurrent min score: 6.67\n",
      "Episode 55\tAverage Score: 2.57\tcurrent min score: 7.62\n",
      "Episode 56\tAverage Score: 2.67\tcurrent min score: 8.17\n",
      "Episode 57\tAverage Score: 2.75\tcurrent min score: 7.28\n",
      "Episode 58\tAverage Score: 2.86\tcurrent min score: 9.09\n",
      "Episode 59\tAverage Score: 2.93\tcurrent min score: 7.12\n",
      "Episode 60\tAverage Score: 3.01\tcurrent min score: 7.73\n",
      "Episode 61\tAverage Score: 3.16\tcurrent min score: 11.92\n",
      "Episode 62\tAverage Score: 3.29\tcurrent min score: 10.97\n",
      "Episode 63\tAverage Score: 3.29\tcurrent min score: 3.70\n",
      "Episode 64\tAverage Score: 3.40\tcurrent min score: 9.89\n",
      "Episode 65\tAverage Score: 3.50\tcurrent min score: 10.23\n",
      "Episode 66\tAverage Score: 3.63\tcurrent min score: 11.93\n",
      "Episode 67\tAverage Score: 3.76\tcurrent min score: 12.16\n",
      "Episode 68\tAverage Score: 3.88\tcurrent min score: 11.98\n",
      "Episode 69\tAverage Score: 4.04\tcurrent min score: 15.01\n",
      "Episode 70\tAverage Score: 4.20\tcurrent min score: 15.48\n",
      "Episode 71\tAverage Score: 4.35\tcurrent min score: 14.57\n",
      "Episode 72\tAverage Score: 4.49\tcurrent min score: 14.35\n",
      "Episode 73\tAverage Score: 4.64\tcurrent min score: 15.62\n",
      "Episode 74\tAverage Score: 4.77\tcurrent min score: 13.96\n",
      "Episode 75\tAverage Score: 4.91\tcurrent min score: 15.77\n",
      "Episode 76\tAverage Score: 5.07\tcurrent min score: 16.67\n",
      "Episode 77\tAverage Score: 5.16\tcurrent min score: 11.88\n",
      "Episode 78\tAverage Score: 5.30\tcurrent min score: 16.31\n",
      "Episode 79\tAverage Score: 5.44\tcurrent min score: 16.30\n",
      "Episode 80\tAverage Score: 5.56\tcurrent min score: 14.92\n",
      "Episode 81\tAverage Score: 5.56\tcurrent min score: 5.92\n",
      "Episode 82\tAverage Score: 5.72\tcurrent min score: 18.79\n",
      "Episode 83\tAverage Score: 5.85\tcurrent min score: 15.98\n",
      "Episode 84\tAverage Score: 5.98\tcurrent min score: 17.36\n",
      "Episode 85\tAverage Score: 6.09\tcurrent min score: 15.06\n",
      "Episode 86\tAverage Score: 6.28\tcurrent min score: 22.79\n",
      "Episode 87\tAverage Score: 6.44\tcurrent min score: 19.80\n",
      "Episode 88\tAverage Score: 6.60\tcurrent min score: 20.96\n",
      "Episode 89\tAverage Score: 6.79\tcurrent min score: 22.84\n",
      "Episode 90\tAverage Score: 6.96\tcurrent min score: 22.74\n",
      "Episode 91\tAverage Score: 7.14\tcurrent min score: 22.70\n",
      "Episode 92\tAverage Score: 7.28\tcurrent min score: 20.65\n",
      "Episode 93\tAverage Score: 7.45\tcurrent min score: 22.54\n",
      "Episode 94\tAverage Score: 7.54\tcurrent min score: 16.15\n",
      "Episode 95\tAverage Score: 7.73\tcurrent min score: 25.59\n",
      "Episode 96\tAverage Score: 7.93\tcurrent min score: 26.66\n",
      "Episode 97\tAverage Score: 8.07\tcurrent min score: 21.61\n",
      "Episode 98\tAverage Score: 8.27\tcurrent min score: 27.65\n",
      "Episode 99\tAverage Score: 8.44\tcurrent min score: 24.85\n",
      "Episode 100\tAverage Score: 8.48\tcurrent min score: 12.64\n",
      "Episode 101\tAverage Score: 8.71\tcurrent min score: 23.30\n",
      "Episode 102\tAverage Score: 8.95\tcurrent min score: 24.12\n",
      "Episode 103\tAverage Score: 9.19\tcurrent min score: 23.76\n",
      "Episode 104\tAverage Score: 9.46\tcurrent min score: 27.63\n",
      "Episode 105\tAverage Score: 9.72\tcurrent min score: 26.38\n",
      "Episode 106\tAverage Score: 9.98\tcurrent min score: 25.83\n",
      "Episode 107\tAverage Score: 10.25\tcurrent min score: 27.40\n",
      "Episode 108\tAverage Score: 10.51\tcurrent min score: 25.80\n",
      "Episode 109\tAverage Score: 10.80\tcurrent min score: 29.11\n",
      "Episode 110\tAverage Score: 11.08\tcurrent min score: 27.70\n",
      "Episode 111\tAverage Score: 11.36\tcurrent min score: 28.83\n",
      "Episode 112\tAverage Score: 11.59\tcurrent min score: 22.95\n",
      "Episode 113\tAverage Score: 11.84\tcurrent min score: 24.77\n",
      "Episode 114\tAverage Score: 12.11\tcurrent min score: 27.99\n",
      "Episode 115\tAverage Score: 12.36\tcurrent min score: 25.79\n",
      "Episode 116\tAverage Score: 12.64\tcurrent min score: 28.83\n",
      "Episode 117\tAverage Score: 12.88\tcurrent min score: 25.40\n",
      "Episode 118\tAverage Score: 13.18\tcurrent min score: 30.42\n",
      "Episode 119\tAverage Score: 13.44\tcurrent min score: 27.16\n",
      "Episode 120\tAverage Score: 13.71\tcurrent min score: 28.15\n",
      "Episode 121\tAverage Score: 13.99\tcurrent min score: 28.87\n",
      "Episode 122\tAverage Score: 14.29\tcurrent min score: 32.06\n",
      "Episode 123\tAverage Score: 14.57\tcurrent min score: 30.13\n",
      "Episode 124\tAverage Score: 14.85\tcurrent min score: 30.76\n",
      "Episode 125\tAverage Score: 15.19\tcurrent min score: 35.99\n",
      "Episode 126\tAverage Score: 15.49\tcurrent min score: 31.62\n",
      "Episode 127\tAverage Score: 15.78\tcurrent min score: 31.95\n",
      "Episode 128\tAverage Score: 16.08\tcurrent min score: 32.24\n",
      "Episode 129\tAverage Score: 16.41\tcurrent min score: 35.60\n",
      "Episode 130\tAverage Score: 16.76\tcurrent min score: 36.39\n",
      "Episode 131\tAverage Score: 17.11\tcurrent min score: 37.56\n",
      "Episode 132\tAverage Score: 17.46\tcurrent min score: 37.51\n",
      "Episode 133\tAverage Score: 17.80\tcurrent min score: 37.82\n",
      "Episode 134\tAverage Score: 18.16\tcurrent min score: 37.46\n",
      "Episode 135\tAverage Score: 18.50\tcurrent min score: 37.94\n",
      "Episode 136\tAverage Score: 18.85\tcurrent min score: 38.70\n",
      "Episode 137\tAverage Score: 19.20\tcurrent min score: 38.43\n",
      "Episode 138\tAverage Score: 19.53\tcurrent min score: 38.22\n",
      "Episode 139\tAverage Score: 19.89\tcurrent min score: 37.57\n",
      "Episode 140\tAverage Score: 20.22\tcurrent min score: 37.30\n",
      "Episode 141\tAverage Score: 20.58\tcurrent min score: 38.23\n",
      "Episode 142\tAverage Score: 20.92\tcurrent min score: 36.60\n",
      "Episode 143\tAverage Score: 21.25\tcurrent min score: 37.86\n",
      "Episode 144\tAverage Score: 21.59\tcurrent min score: 37.54\n",
      "Episode 145\tAverage Score: 21.91\tcurrent min score: 37.84\n",
      "Episode 146\tAverage Score: 22.20\tcurrent min score: 35.47\n",
      "Episode 147\tAverage Score: 22.52\tcurrent min score: 38.76\n",
      "Episode 148\tAverage Score: 22.86\tcurrent min score: 38.27\n",
      "Episode 149\tAverage Score: 23.18\tcurrent min score: 36.40\n",
      "Episode 150\tAverage Score: 23.50\tcurrent min score: 37.49\n",
      "Episode 151\tAverage Score: 23.81\tcurrent min score: 37.80\n",
      "Episode 152\tAverage Score: 24.12\tcurrent min score: 36.47\n",
      "Episode 153\tAverage Score: 24.41\tcurrent min score: 36.08\n",
      "Episode 154\tAverage Score: 24.69\tcurrent min score: 34.84\n",
      "Episode 155\tAverage Score: 24.97\tcurrent min score: 35.20\n",
      "Episode 156\tAverage Score: 25.24\tcurrent min score: 35.23\n",
      "Episode 157\tAverage Score: 25.52\tcurrent min score: 35.90\n",
      "Episode 158\tAverage Score: 25.78\tcurrent min score: 35.00\n",
      "Episode 159\tAverage Score: 26.09\tcurrent min score: 37.56\n",
      "Episode 160\tAverage Score: 26.37\tcurrent min score: 36.56\n",
      "Episode 161\tAverage Score: 26.62\tcurrent min score: 36.71\n",
      "Episode 162\tAverage Score: 26.88\tcurrent min score: 36.84\n",
      "Episode 163\tAverage Score: 27.19\tcurrent min score: 34.52\n",
      "Episode 164\tAverage Score: 27.46\tcurrent min score: 36.94\n",
      "Episode 165\tAverage Score: 27.72\tcurrent min score: 35.93\n",
      "Episode 166\tAverage Score: 27.96\tcurrent min score: 36.34\n",
      "Episode 167\tAverage Score: 28.19\tcurrent min score: 34.93\n",
      "Episode 168\tAverage Score: 28.44\tcurrent min score: 36.73\n",
      "Episode 169\tAverage Score: 28.66\tcurrent min score: 37.88\n",
      "Episode 170\tAverage Score: 28.87\tcurrent min score: 35.78\n",
      "Episode 171\tAverage Score: 29.09\tcurrent min score: 36.34\n",
      "Episode 172\tAverage Score: 29.32\tcurrent min score: 37.96\n",
      "Episode 173\tAverage Score: 29.55\tcurrent min score: 38.65\n",
      "Episode 174\tAverage Score: 29.79\tcurrent min score: 37.45\n",
      "Episode 175\tAverage Score: 30.00\tcurrent min score: 36.99\n",
      "Episode 176\tAverage Score: 30.20\tcurrent min score: 36.94\n",
      "\n",
      "Environment solved in 76 episodes!\tAverage Score: 30.20\n"
     ]
    },
    {
     "data": {
      "image/png": "[encoded data removed]",
      "text/plain": [
       "<Figure size 432x288 with 1 Axes>"
      ]
     },
     "metadata": {
      "needs_background": "light"
     },
     "output_type": "display_data"
    }
   ],
   "source": [
    "scores = ddpg_train()\n",
    "\n",
    "fig = plt.figure()\n",
    "ax = fig.add_subplot(111)\n",
    "plt.plot(np.arange(1, len(scores)+1), scores)\n",
    "plt.ylabel('Score')\n",
    "plt.xlabel('Episode #')\n",
    "plt.show()"
   ]
  },
  {
   "cell_type": "code",
   "execution_count": 7,
   "metadata": {},
   "outputs": [
    {
     "data": {
      "text/plain": [
       "IncompatibleKeys(missing_keys=[], unexpected_keys=[])"
      ]
     },
     "execution_count": 7,
     "metadata": {},
     "output_type": "execute_result"
    }
   ],
   "source": [
    "agent.actor_local.load_state_dict(torch.load('checkpoint_actor.pth'))\n",
    "agent.critic_local.load_state_dict(torch.load('checkpoint_critic.pth'))"
   ]
  },
  {
   "cell_type": "code",
   "execution_count": 8,
   "metadata": {},
   "outputs": [
    {
     "name": "stdout",
     "output_type": "stream",
     "text": [
      "Total score (averaged over agents) this episode: 39.49449911722913\n"
     ]
    }
   ],
   "source": [
    "env_info = env.reset(train_mode=False)[brain_name]     # reset the environment    \n",
    "states = env_info.vector_observations                  # get the current state (for each agent)\n",
    "scores = np.zeros(num_agents)                          # initialize the score (for each agent)\n",
    "while True:\n",
    "    actions = agent.act(states, add_noise=False)       \n",
    "    env_info = env.step(actions)[brain_name]           # send all actions to tne environment\n",
    "    next_states = env_info.vector_observations         # get next state (for each agent)\n",
    "    rewards = env_info.rewards                         # get reward (for each agent)\n",
    "    dones = env_info.local_done                        # see if episode finished\n",
    "    scores += env_info.rewards                         # update the score (for each agent)\n",
    "    states = next_states                               # roll over states to next time step\n",
    "    if np.any(dones):                                  # exit loop if episode finished\n",
    "        break\n",
    "print('Total score (averaged over agents) this episode: {}'.format(np.mean(scores)))"
   ]
  },
  {
   "cell_type": "code",
   "execution_count": null,
   "metadata": {},
   "outputs": [],
   "source": []
  }
 ],
 "metadata": {
  "kernelspec": {
   "display_name": "Python 3",
   "language": "python",
   "name": "python3"
  },
  "language_info": {
   "codemirror_mode": {
    "name": "ipython",
    "version": 3
   },
   "file_extension": ".py",
   "mimetype": "text/x-python",
   "name": "python",
   "nbconvert_exporter": "python",
   "pygments_lexer": "ipython3",
   "version": "3.6.7"
  }
 },
 "nbformat": 4,
 "nbformat_minor": 2
}
